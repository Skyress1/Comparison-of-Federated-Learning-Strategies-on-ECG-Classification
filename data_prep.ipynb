{
 "cells": [
  {
   "cell_type": "code",
   "execution_count": null,
   "id": "29094ea0",
   "metadata": {},
   "outputs": [],
   "source": [
    "import pandas as pd\n",
    "import numpy as np\n",
    "import wfdb\n",
    "import os\n",
    "from scipy import signal\n",
    "import matplotlib.pyplot as plt\n",
    "import tensorflow as tf"
   ]
  },
  {
   "cell_type": "code",
   "execution_count": null,
   "id": "c0901877",
   "metadata": {},
   "outputs": [],
   "source": [
    "data_files = [\"mit-bih-arrhythmia-database-1.0.0/\" + file for file in os.listdir(\"mit-bih-arrhythmia-database-1.0.0\") if \".dat\" in file]\n",
    "data_files=sorted(data_files)\n",
    "\n",
    "def read_dat_file(file, participant):\n",
    "    \"\"\"Utility function\n",
    "    \"\"\"\n",
    "    # Get signal\n",
    "    # 0 ve 1 farklı kanalları ifade ediyor, 0 lead2, 1 V5\n",
    "    data = pd.DataFrame({\"ECG\": wfdb.rdsamp(file[:-4])[0][:, 1]})\n",
    "    data[\"Participant\"] = \"MIT-Arrhythmia_%.2i\" %(participant)\n",
    "    data[\"Sample\"] = range(len(data))\n",
    "    return data\n",
    "\n",
    "def read_atr_file(file, participant):\n",
    "    # getting annotations\n",
    "    anno = wfdb.rdann(file[:-4], 'atr')\n",
    "    anno_symbol = anno.symbol\n",
    "    anno = anno.sample\n",
    "    anno = pd.DataFrame({\"Rpeaks\": anno})\n",
    "    anno[\"Anno_Symbol\"] = anno_symbol\n",
    "    anno[\"Participant\"] = \"MIT-Arrhythmia_%.2i\" %(participant)\n",
    "    return anno\n",
    "\n",
    "dfs_ecg = []\n",
    "dfs_rpeaks = []\n",
    "\n",
    "for participant, file in enumerate(data_files):\n",
    "\n",
    "    data = read_dat_file(file, participant)\n",
    "    rpeak = read_atr_file(file, participant)\n",
    "    \n",
    "    # Store with the rest\n",
    "    dfs_ecg.append(data)\n",
    "    dfs_rpeaks.append(rpeak)\n"
   ]
  },
  {
   "cell_type": "markdown",
   "id": "4c0c4f48",
   "metadata": {},
   "source": [
    "N ---> 0 <br>\n",
    "S ---> 1 <br>\n",
    "V ---> 2 <br>\n",
    "F ---> 3 <br>\n",
    "Q ---> 4"
   ]
  },
  {
   "cell_type": "code",
   "execution_count": null,
   "id": "0f53b4cb",
   "metadata": {},
   "outputs": [],
   "source": [
    "df_rpeaks = []\n",
    "for i in range(len(dfs_rpeaks)):\n",
    "    df_rpeaks.append(dfs_rpeaks[i][np.in1d(dfs_rpeaks[i].Anno_Symbol, ['N','L','R','j','e','a','S','A','J','E','V','F','/','Q','f'])])\n",
    "    \n",
    "for i in range(len(df_rpeaks)):\n",
    "    df_rpeaks[i].Anno_Symbol[np.in1d(df_rpeaks[i].Anno_Symbol, ['N','L','R','j','e'])] = 0\n",
    "    df_rpeaks[i].Anno_Symbol[np.in1d(df_rpeaks[i].Anno_Symbol, ['a','S','A','J'])] = 1\n",
    "    df_rpeaks[i].Anno_Symbol[np.in1d(df_rpeaks[i].Anno_Symbol, ['E','V'])] = 2\n",
    "    df_rpeaks[i].Anno_Symbol[np.in1d(df_rpeaks[i].Anno_Symbol, ['F'])] = 3\n",
    "    df_rpeaks[i].Anno_Symbol[np.in1d(df_rpeaks[i].Anno_Symbol, ['/','Q','f'])] = 4"
   ]
  },
  {
   "cell_type": "code",
   "execution_count": null,
   "id": "2bed8b32",
   "metadata": {},
   "outputs": [],
   "source": [
    "for i in range(len(dfs_ecg)):\n",
    "    dfs_ecg[i][\"Rpeaks\"] = None\n",
    "    dfs_ecg[i][\"Anno_Symbol\"] = None\n",
    "    dfs_ecg[i].loc[df_rpeaks[i].Rpeaks, \"Rpeaks\"] = True\n",
    "    dfs_ecg[i].loc[df_rpeaks[i].Rpeaks, \"Anno_Symbol\"] = df_rpeaks[i].Anno_Symbol.values"
   ]
  },
  {
   "cell_type": "code",
   "execution_count": null,
   "id": "f09bfe02",
   "metadata": {},
   "outputs": [],
   "source": [
    "def normalization(x):\n",
    "    x_min = np.min(x)\n",
    "    x_max = np.max(x) \n",
    "    x = (x - x_min) / (x_max - x_min + 1e-6)\n",
    "    x = np.clip(x, a_min=0, a_max=1)\n",
    "    return x"
   ]
  },
  {
   "cell_type": "markdown",
   "id": "e8e66ae0-734e-480b-b92b-8c465b5d02aa",
   "metadata": {},
   "source": [
    "### Centralized Data"
   ]
  },
  {
   "cell_type": "code",
   "execution_count": null,
   "id": "a8647572",
   "metadata": {},
   "outputs": [],
   "source": [
    "all_windows = []\n",
    "all_labels = []\n",
    "for ecg_index in range(len(dfs_ecg)):\n",
    "    ecg = dfs_ecg[ecg_index]\n",
    "    for i in ecg[ecg[\"Rpeaks\"]==True].index:\n",
    "        if len(ecg.loc[i-90:i+89][\"ECG\"].values)==180:\n",
    "            all_windows.append(normalization(ecg.loc[i-90:i+89][\"ECG\"].values))\n",
    "            all_labels.append(ecg.loc[i][\"Anno_Symbol\"])"
   ]
  },
  {
   "cell_type": "code",
   "execution_count": null,
   "id": "6d89d4b1",
   "metadata": {},
   "outputs": [],
   "source": [
    "all_labels = tf.keras.utils.to_categorical(all_labels, num_classes=5)"
   ]
  },
  {
   "cell_type": "code",
   "execution_count": null,
   "id": "4291a352",
   "metadata": {},
   "outputs": [],
   "source": [
    "all_windows = np.array(all_windows).astype(\"float32\")"
   ]
  },
  {
   "cell_type": "code",
   "execution_count": null,
   "id": "171b070d",
   "metadata": {},
   "outputs": [],
   "source": [
    "from sklearn.model_selection import train_test_split\n",
    "X_train, X_test, y_train, y_test = train_test_split(all_windows, all_labels, test_size = 0.30, random_state = 12)"
   ]
  },
  {
   "cell_type": "code",
   "execution_count": null,
   "id": "27909d6b",
   "metadata": {},
   "outputs": [],
   "source": [
    "np.save(\"X_train\", X_train)\n",
    "np.save(\"y_train\", y_train)\n",
    "np.save(\"X_test\", X_test)\n",
    "np.save(\"y_test\", y_test)"
   ]
  },
  {
   "cell_type": "markdown",
   "id": "20089ed3",
   "metadata": {},
   "source": [
    "### NON-IID"
   ]
  },
  {
   "cell_type": "markdown",
   "id": "73206337-4a86-4448-8636-cd80a82e0b90",
   "metadata": {},
   "source": [
    "Here, in the first cell, ECGs are allocated to 6 clients as 8 ECGs each. In the next cells, the ECGs from each client were preprocessed and split into training and testing, respectively. "
   ]
  },
  {
   "cell_type": "code",
   "execution_count": null,
   "id": "1cc5ef4b",
   "metadata": {},
   "outputs": [],
   "source": [
    "clients = []\n",
    "for i in range(6):\n",
    "    clients.append(dfs_ecg[8*i:8*(i+1)])"
   ]
  },
  {
   "cell_type": "code",
   "execution_count": null,
   "id": "367d5335",
   "metadata": {},
   "outputs": [],
   "source": [
    "all_windows = []\n",
    "all_labels = []\n",
    "for ecg_index in range(len(clients[5])):\n",
    "    ecg = clients[5][ecg_index]\n",
    "    for i in ecg[ecg[\"Rpeaks\"]==True].index:\n",
    "        if len(ecg.loc[i-90:i+89][\"ECG\"].values)==180:\n",
    "            all_windows.append(normalization(ecg.loc[i-90:i+89][\"ECG\"].values))\n",
    "            all_labels.append(ecg.loc[i][\"Anno_Symbol\"])"
   ]
  },
  {
   "cell_type": "code",
   "execution_count": null,
   "id": "10044e18",
   "metadata": {},
   "outputs": [],
   "source": [
    "np.unique(all_labels)"
   ]
  },
  {
   "cell_type": "code",
   "execution_count": null,
   "id": "03361a64",
   "metadata": {},
   "outputs": [],
   "source": [
    "all_labels = tf.keras.utils.to_categorical(all_labels, num_classes=5)"
   ]
  },
  {
   "cell_type": "code",
   "execution_count": null,
   "id": "5c9777e1",
   "metadata": {},
   "outputs": [],
   "source": [
    "all_windows = np.array(all_windows).astype(\"float32\")"
   ]
  },
  {
   "cell_type": "code",
   "execution_count": null,
   "id": "5a91bdb2",
   "metadata": {},
   "outputs": [],
   "source": [
    "from sklearn.model_selection import train_test_split\n",
    "X_train, X_test, y_train, y_test = train_test_split(all_windows, all_labels, test_size = 0.30, random_state = 12)"
   ]
  },
  {
   "cell_type": "code",
   "execution_count": null,
   "id": "740f6052",
   "metadata": {},
   "outputs": [],
   "source": [
    "np.save(\"client_5_X_train\", X_train)\n",
    "np.save(\"client_5_y_train\", y_train)\n",
    "np.save(\"client_5_X_test\", X_test)\n",
    "np.save(\"client_5_y_test\", y_test)"
   ]
  },
  {
   "cell_type": "code",
   "execution_count": null,
   "id": "8b9589b2",
   "metadata": {},
   "outputs": [],
   "source": []
  }
 ],
 "metadata": {
  "kernelspec": {
   "display_name": "Python 3 (ipykernel)",
   "language": "python",
   "name": "python3"
  },
  "language_info": {
   "codemirror_mode": {
    "name": "ipython",
    "version": 3
   },
   "file_extension": ".py",
   "mimetype": "text/x-python",
   "name": "python",
   "nbconvert_exporter": "python",
   "pygments_lexer": "ipython3",
   "version": "3.8.10"
  }
 },
 "nbformat": 4,
 "nbformat_minor": 5
}
